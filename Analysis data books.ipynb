{
 "cells": [
  {
   "cell_type": "markdown",
   "id": "514f5d98",
   "metadata": {},
   "source": [
    "<h1 style=\"text-align:center; font-family:serif;\">(Case Study - 1) Analysis Books Scraping</h1>"
   ]
  },
  {
   "cell_type": "markdown",
   "id": "be549fac",
   "metadata": {},
   "source": [
    "For this datasets use this url : https://www.kaggle.com/datasets/repl4y/books-scraping"
   ]
  },
  {
   "cell_type": "code",
   "execution_count": 4,
   "id": "0192679e",
   "metadata": {},
   "outputs": [],
   "source": [
    "import pandas as pd\n",
    "import numpy as np\n",
    "import matplotlib.pyplot as plt\n",
    "import random as rd\n",
    "import seaborn as sns"
   ]
  },
  {
   "cell_type": "code",
   "execution_count": 7,
   "id": "92b5b94c",
   "metadata": {},
   "outputs": [],
   "source": [
    "df = pd.read_csv(\"Books_scrapingV3.csv\")"
   ]
  },
  {
   "cell_type": "markdown",
   "id": "1e54658a",
   "metadata": {},
   "source": [
    "<h2>1.Observe Column in Top and Bottom</h2>"
   ]
  },
  {
   "cell_type": "code",
   "execution_count": 11,
   "id": "1b7d1fd1",
   "metadata": {},
   "outputs": [
    {
     "data": {
      "text/plain": [
       "(1000, 10)"
      ]
     },
     "execution_count": 11,
     "metadata": {},
     "output_type": "execute_result"
    }
   ],
   "source": [
    "df.shape"
   ]
  },
  {
   "cell_type": "code",
   "execution_count": 7,
   "id": "0822c239",
   "metadata": {},
   "outputs": [
    {
     "data": {
      "text/html": [
       "<div>\n",
       "<style scoped>\n",
       "    .dataframe tbody tr th:only-of-type {\n",
       "        vertical-align: middle;\n",
       "    }\n",
       "\n",
       "    .dataframe tbody tr th {\n",
       "        vertical-align: top;\n",
       "    }\n",
       "\n",
       "    .dataframe thead th {\n",
       "        text-align: right;\n",
       "    }\n",
       "</style>\n",
       "<table border=\"1\" class=\"dataframe\">\n",
       "  <thead>\n",
       "    <tr style=\"text-align: right;\">\n",
       "      <th></th>\n",
       "      <th>Genre</th>\n",
       "      <th>Title</th>\n",
       "      <th>price</th>\n",
       "      <th>Stock</th>\n",
       "      <th>Star</th>\n",
       "      <th>UPC</th>\n",
       "      <th>Type</th>\n",
       "      <th>Tax</th>\n",
       "      <th>Number of reviews</th>\n",
       "      <th>desc</th>\n",
       "    </tr>\n",
       "  </thead>\n",
       "  <tbody>\n",
       "    <tr>\n",
       "      <th>0</th>\n",
       "      <td>Travel</td>\n",
       "      <td>It's Only the Himalayas</td>\n",
       "      <td>45.17</td>\n",
       "      <td>19</td>\n",
       "      <td>2</td>\n",
       "      <td>a22124811bfa8350</td>\n",
       "      <td>Books</td>\n",
       "      <td>0.0</td>\n",
       "      <td>0</td>\n",
       "      <td>âWherever you go  whatever you do  just . . ...</td>\n",
       "    </tr>\n",
       "    <tr>\n",
       "      <th>1</th>\n",
       "      <td>Travel</td>\n",
       "      <td>Full Moon over Noahâs Ark: An Odyssey to Mou...</td>\n",
       "      <td>49.43</td>\n",
       "      <td>15</td>\n",
       "      <td>4</td>\n",
       "      <td>ce60436f52c5ee68</td>\n",
       "      <td>Books</td>\n",
       "      <td>0.0</td>\n",
       "      <td>0</td>\n",
       "      <td>Acclaimed travel writer Rick Antonson sets his...</td>\n",
       "    </tr>\n",
       "    <tr>\n",
       "      <th>2</th>\n",
       "      <td>Travel</td>\n",
       "      <td>See America: A Celebration of Our National Par...</td>\n",
       "      <td>48.87</td>\n",
       "      <td>14</td>\n",
       "      <td>3</td>\n",
       "      <td>f9705c362f070608</td>\n",
       "      <td>Books</td>\n",
       "      <td>0.0</td>\n",
       "      <td>0</td>\n",
       "      <td>To coincide with the 2016 centennial anniversa...</td>\n",
       "    </tr>\n",
       "    <tr>\n",
       "      <th>3</th>\n",
       "      <td>Travel</td>\n",
       "      <td>Vagabonding: An Uncommon Guide to the Art of L...</td>\n",
       "      <td>36.94</td>\n",
       "      <td>8</td>\n",
       "      <td>2</td>\n",
       "      <td>1809259a5a5f1d8d</td>\n",
       "      <td>Books</td>\n",
       "      <td>0.0</td>\n",
       "      <td>0</td>\n",
       "      <td>With a new foreword by Tim Ferriss â¢Thereâ...</td>\n",
       "    </tr>\n",
       "    <tr>\n",
       "      <th>4</th>\n",
       "      <td>Travel</td>\n",
       "      <td>Under the Tuscan Sun</td>\n",
       "      <td>37.33</td>\n",
       "      <td>7</td>\n",
       "      <td>3</td>\n",
       "      <td>a94350ee74deaa07</td>\n",
       "      <td>Books</td>\n",
       "      <td>0.0</td>\n",
       "      <td>0</td>\n",
       "      <td>A CLASSIC FROM THE BESTSELLING AUTHOR OF UNDER...</td>\n",
       "    </tr>\n",
       "  </tbody>\n",
       "</table>\n",
       "</div>"
      ],
      "text/plain": [
       "    Genre                                              Title  price  Stock  \\\n",
       "0  Travel                            It's Only the Himalayas  45.17     19   \n",
       "1  Travel  Full Moon over Noahâs Ark: An Odyssey to Mou...  49.43     15   \n",
       "2  Travel  See America: A Celebration of Our National Par...  48.87     14   \n",
       "3  Travel  Vagabonding: An Uncommon Guide to the Art of L...  36.94      8   \n",
       "4  Travel                               Under the Tuscan Sun  37.33      7   \n",
       "\n",
       "   Star               UPC   Type  Tax  Number of reviews  \\\n",
       "0     2  a22124811bfa8350  Books  0.0                  0   \n",
       "1     4  ce60436f52c5ee68  Books  0.0                  0   \n",
       "2     3  f9705c362f070608  Books  0.0                  0   \n",
       "3     2  1809259a5a5f1d8d  Books  0.0                  0   \n",
       "4     3  a94350ee74deaa07  Books  0.0                  0   \n",
       "\n",
       "                                                desc  \n",
       "0  âWherever you go  whatever you do  just . . ...  \n",
       "1  Acclaimed travel writer Rick Antonson sets his...  \n",
       "2  To coincide with the 2016 centennial anniversa...  \n",
       "3  With a new foreword by Tim Ferriss â¢Thereâ...  \n",
       "4  A CLASSIC FROM THE BESTSELLING AUTHOR OF UNDER...  "
      ]
     },
     "execution_count": 7,
     "metadata": {},
     "output_type": "execute_result"
    }
   ],
   "source": [
    "df.head(5)"
   ]
  },
  {
   "cell_type": "code",
   "execution_count": 8,
   "id": "f549f6de",
   "metadata": {},
   "outputs": [
    {
     "data": {
      "text/html": [
       "<div>\n",
       "<style scoped>\n",
       "    .dataframe tbody tr th:only-of-type {\n",
       "        vertical-align: middle;\n",
       "    }\n",
       "\n",
       "    .dataframe tbody tr th {\n",
       "        vertical-align: top;\n",
       "    }\n",
       "\n",
       "    .dataframe thead th {\n",
       "        text-align: right;\n",
       "    }\n",
       "</style>\n",
       "<table border=\"1\" class=\"dataframe\">\n",
       "  <thead>\n",
       "    <tr style=\"text-align: right;\">\n",
       "      <th></th>\n",
       "      <th>Genre</th>\n",
       "      <th>Title</th>\n",
       "      <th>price</th>\n",
       "      <th>Stock</th>\n",
       "      <th>Star</th>\n",
       "      <th>UPC</th>\n",
       "      <th>Type</th>\n",
       "      <th>Tax</th>\n",
       "      <th>Number of reviews</th>\n",
       "      <th>desc</th>\n",
       "    </tr>\n",
       "  </thead>\n",
       "  <tbody>\n",
       "    <tr>\n",
       "      <th>995</th>\n",
       "      <td>Politics</td>\n",
       "      <td>Why the Right Went Wrong: Conservatism--From G...</td>\n",
       "      <td>52.65</td>\n",
       "      <td>14</td>\n",
       "      <td>4</td>\n",
       "      <td>2b5054a4192e9b06</td>\n",
       "      <td>Books</td>\n",
       "      <td>0.0</td>\n",
       "      <td>0</td>\n",
       "      <td>âDionne's expertise is evident in this finel...</td>\n",
       "    </tr>\n",
       "    <tr>\n",
       "      <th>996</th>\n",
       "      <td>Politics</td>\n",
       "      <td>Equal Is Unfair: America's Misguided Fight Aga...</td>\n",
       "      <td>56.86</td>\n",
       "      <td>12</td>\n",
       "      <td>1</td>\n",
       "      <td>3968e3fbf4695d7c</td>\n",
       "      <td>Books</td>\n",
       "      <td>0.0</td>\n",
       "      <td>0</td>\n",
       "      <td>Weâve all heard that the American Dream is v...</td>\n",
       "    </tr>\n",
       "    <tr>\n",
       "      <th>997</th>\n",
       "      <td>Cultural</td>\n",
       "      <td>Amid the Chaos</td>\n",
       "      <td>36.58</td>\n",
       "      <td>15</td>\n",
       "      <td>1</td>\n",
       "      <td>bb8245f52c7cce8f</td>\n",
       "      <td>Books</td>\n",
       "      <td>0.0</td>\n",
       "      <td>0</td>\n",
       "      <td>Some people call Eritrea the âNorth Korea of...</td>\n",
       "    </tr>\n",
       "    <tr>\n",
       "      <th>998</th>\n",
       "      <td>Erotica</td>\n",
       "      <td>Dark Notes</td>\n",
       "      <td>19.19</td>\n",
       "      <td>15</td>\n",
       "      <td>5</td>\n",
       "      <td>88c21fcd38e2486e</td>\n",
       "      <td>Books</td>\n",
       "      <td>0.0</td>\n",
       "      <td>0</td>\n",
       "      <td>They call me a slut. Maybe I am.Sometimes I do...</td>\n",
       "    </tr>\n",
       "    <tr>\n",
       "      <th>999</th>\n",
       "      <td>Crime</td>\n",
       "      <td>The Long Shadow of Small Ghosts: Murder and Me...</td>\n",
       "      <td>10.97</td>\n",
       "      <td>15</td>\n",
       "      <td>1</td>\n",
       "      <td>abeafe151a587d3b</td>\n",
       "      <td>Books</td>\n",
       "      <td>0.0</td>\n",
       "      <td>0</td>\n",
       "      <td>In Cold Blood meets Adrian Nicole LeBlancâs ...</td>\n",
       "    </tr>\n",
       "  </tbody>\n",
       "</table>\n",
       "</div>"
      ],
      "text/plain": [
       "        Genre                                              Title  price  \\\n",
       "995  Politics  Why the Right Went Wrong: Conservatism--From G...  52.65   \n",
       "996  Politics  Equal Is Unfair: America's Misguided Fight Aga...  56.86   \n",
       "997  Cultural                                     Amid the Chaos  36.58   \n",
       "998   Erotica                                         Dark Notes  19.19   \n",
       "999     Crime  The Long Shadow of Small Ghosts: Murder and Me...  10.97   \n",
       "\n",
       "     Stock  Star               UPC   Type  Tax  Number of reviews  \\\n",
       "995     14     4  2b5054a4192e9b06  Books  0.0                  0   \n",
       "996     12     1  3968e3fbf4695d7c  Books  0.0                  0   \n",
       "997     15     1  bb8245f52c7cce8f  Books  0.0                  0   \n",
       "998     15     5  88c21fcd38e2486e  Books  0.0                  0   \n",
       "999     15     1  abeafe151a587d3b  Books  0.0                  0   \n",
       "\n",
       "                                                  desc  \n",
       "995  âDionne's expertise is evident in this finel...  \n",
       "996  Weâve all heard that the American Dream is v...  \n",
       "997  Some people call Eritrea the âNorth Korea of...  \n",
       "998  They call me a slut. Maybe I am.Sometimes I do...  \n",
       "999  In Cold Blood meets Adrian Nicole LeBlancâs ...  "
      ]
     },
     "execution_count": 8,
     "metadata": {},
     "output_type": "execute_result"
    }
   ],
   "source": [
    "df.tail()"
   ]
  },
  {
   "cell_type": "code",
   "execution_count": 95,
   "id": "0ff1d3b9",
   "metadata": {},
   "outputs": [
    {
     "data": {
      "text/html": [
       "<div>\n",
       "<style scoped>\n",
       "    .dataframe tbody tr th:only-of-type {\n",
       "        vertical-align: middle;\n",
       "    }\n",
       "\n",
       "    .dataframe tbody tr th {\n",
       "        vertical-align: top;\n",
       "    }\n",
       "\n",
       "    .dataframe thead th {\n",
       "        text-align: right;\n",
       "    }\n",
       "</style>\n",
       "<table border=\"1\" class=\"dataframe\">\n",
       "  <thead>\n",
       "    <tr style=\"text-align: right;\">\n",
       "      <th></th>\n",
       "      <th>count</th>\n",
       "      <th>mean</th>\n",
       "      <th>std</th>\n",
       "      <th>min</th>\n",
       "      <th>25%</th>\n",
       "      <th>50%</th>\n",
       "      <th>75%</th>\n",
       "      <th>max</th>\n",
       "    </tr>\n",
       "  </thead>\n",
       "  <tbody>\n",
       "    <tr>\n",
       "      <th>price</th>\n",
       "      <td>1000.0</td>\n",
       "      <td>35.07035</td>\n",
       "      <td>14.446690</td>\n",
       "      <td>10.0</td>\n",
       "      <td>22.1075</td>\n",
       "      <td>35.98</td>\n",
       "      <td>47.4575</td>\n",
       "      <td>59.99</td>\n",
       "    </tr>\n",
       "    <tr>\n",
       "      <th>Stock</th>\n",
       "      <td>1000.0</td>\n",
       "      <td>8.58500</td>\n",
       "      <td>5.654622</td>\n",
       "      <td>1.0</td>\n",
       "      <td>3.0000</td>\n",
       "      <td>7.00</td>\n",
       "      <td>14.0000</td>\n",
       "      <td>22.00</td>\n",
       "    </tr>\n",
       "    <tr>\n",
       "      <th>Star</th>\n",
       "      <td>1000.0</td>\n",
       "      <td>2.92300</td>\n",
       "      <td>1.434967</td>\n",
       "      <td>1.0</td>\n",
       "      <td>2.0000</td>\n",
       "      <td>3.00</td>\n",
       "      <td>4.0000</td>\n",
       "      <td>5.00</td>\n",
       "    </tr>\n",
       "    <tr>\n",
       "      <th>Tax</th>\n",
       "      <td>1000.0</td>\n",
       "      <td>0.00000</td>\n",
       "      <td>0.000000</td>\n",
       "      <td>0.0</td>\n",
       "      <td>0.0000</td>\n",
       "      <td>0.00</td>\n",
       "      <td>0.0000</td>\n",
       "      <td>0.00</td>\n",
       "    </tr>\n",
       "    <tr>\n",
       "      <th>Number of reviews</th>\n",
       "      <td>1000.0</td>\n",
       "      <td>0.00000</td>\n",
       "      <td>0.000000</td>\n",
       "      <td>0.0</td>\n",
       "      <td>0.0000</td>\n",
       "      <td>0.00</td>\n",
       "      <td>0.0000</td>\n",
       "      <td>0.00</td>\n",
       "    </tr>\n",
       "  </tbody>\n",
       "</table>\n",
       "</div>"
      ],
      "text/plain": [
       "                    count      mean        std   min      25%    50%      75%  \\\n",
       "price              1000.0  35.07035  14.446690  10.0  22.1075  35.98  47.4575   \n",
       "Stock              1000.0   8.58500   5.654622   1.0   3.0000   7.00  14.0000   \n",
       "Star               1000.0   2.92300   1.434967   1.0   2.0000   3.00   4.0000   \n",
       "Tax                1000.0   0.00000   0.000000   0.0   0.0000   0.00   0.0000   \n",
       "Number of reviews  1000.0   0.00000   0.000000   0.0   0.0000   0.00   0.0000   \n",
       "\n",
       "                     max  \n",
       "price              59.99  \n",
       "Stock              22.00  \n",
       "Star                5.00  \n",
       "Tax                 0.00  \n",
       "Number of reviews   0.00  "
      ]
     },
     "execution_count": 95,
     "metadata": {},
     "output_type": "execute_result"
    }
   ],
   "source": [
    "df.describe().T"
   ]
  },
  {
   "cell_type": "markdown",
   "id": "ce652582",
   "metadata": {},
   "source": [
    "<h2>2. Check Datatype of Each Column</h2>"
   ]
  },
  {
   "cell_type": "code",
   "execution_count": 96,
   "id": "cd84d738",
   "metadata": {},
   "outputs": [
    {
     "name": "stdout",
     "output_type": "stream",
     "text": [
      "<class 'pandas.core.frame.DataFrame'>\n",
      "RangeIndex: 1000 entries, 0 to 999\n",
      "Data columns (total 10 columns):\n",
      " #   Column             Non-Null Count  Dtype  \n",
      "---  ------             --------------  -----  \n",
      " 0   Genre              1000 non-null   object \n",
      " 1   Title              1000 non-null   object \n",
      " 2   price              1000 non-null   float64\n",
      " 3   Stock              1000 non-null   int64  \n",
      " 4   Star               1000 non-null   int64  \n",
      " 5   UPC                1000 non-null   object \n",
      " 6   Type               1000 non-null   object \n",
      " 7   Tax                1000 non-null   float64\n",
      " 8   Number of reviews  1000 non-null   int64  \n",
      " 9   desc               1000 non-null   object \n",
      "dtypes: float64(2), int64(3), object(5)\n",
      "memory usage: 78.2+ KB\n"
     ]
    }
   ],
   "source": [
    "df.info()"
   ]
  },
  {
   "cell_type": "markdown",
   "id": "f737375d",
   "metadata": {},
   "source": [
    "<h2>3. Check Null In The Dataset</h2>"
   ]
  },
  {
   "cell_type": "code",
   "execution_count": 61,
   "id": "70e3ab2e",
   "metadata": {},
   "outputs": [
    {
     "data": {
      "text/html": [
       "<div>\n",
       "<style scoped>\n",
       "    .dataframe tbody tr th:only-of-type {\n",
       "        vertical-align: middle;\n",
       "    }\n",
       "\n",
       "    .dataframe tbody tr th {\n",
       "        vertical-align: top;\n",
       "    }\n",
       "\n",
       "    .dataframe thead th {\n",
       "        text-align: right;\n",
       "    }\n",
       "</style>\n",
       "<table border=\"1\" class=\"dataframe\">\n",
       "  <thead>\n",
       "    <tr style=\"text-align: right;\">\n",
       "      <th></th>\n",
       "      <th>Genre</th>\n",
       "      <th>Title</th>\n",
       "      <th>price</th>\n",
       "      <th>Stock</th>\n",
       "      <th>Star</th>\n",
       "      <th>UPC</th>\n",
       "      <th>Type</th>\n",
       "      <th>Tax</th>\n",
       "      <th>Number of reviews</th>\n",
       "      <th>desc</th>\n",
       "    </tr>\n",
       "  </thead>\n",
       "  <tbody>\n",
       "    <tr>\n",
       "      <th>0</th>\n",
       "      <td>False</td>\n",
       "      <td>False</td>\n",
       "      <td>False</td>\n",
       "      <td>False</td>\n",
       "      <td>False</td>\n",
       "      <td>False</td>\n",
       "      <td>False</td>\n",
       "      <td>False</td>\n",
       "      <td>False</td>\n",
       "      <td>False</td>\n",
       "    </tr>\n",
       "    <tr>\n",
       "      <th>1</th>\n",
       "      <td>False</td>\n",
       "      <td>False</td>\n",
       "      <td>False</td>\n",
       "      <td>False</td>\n",
       "      <td>False</td>\n",
       "      <td>False</td>\n",
       "      <td>False</td>\n",
       "      <td>False</td>\n",
       "      <td>False</td>\n",
       "      <td>False</td>\n",
       "    </tr>\n",
       "    <tr>\n",
       "      <th>2</th>\n",
       "      <td>False</td>\n",
       "      <td>False</td>\n",
       "      <td>False</td>\n",
       "      <td>False</td>\n",
       "      <td>False</td>\n",
       "      <td>False</td>\n",
       "      <td>False</td>\n",
       "      <td>False</td>\n",
       "      <td>False</td>\n",
       "      <td>False</td>\n",
       "    </tr>\n",
       "    <tr>\n",
       "      <th>3</th>\n",
       "      <td>False</td>\n",
       "      <td>False</td>\n",
       "      <td>False</td>\n",
       "      <td>False</td>\n",
       "      <td>False</td>\n",
       "      <td>False</td>\n",
       "      <td>False</td>\n",
       "      <td>False</td>\n",
       "      <td>False</td>\n",
       "      <td>False</td>\n",
       "    </tr>\n",
       "    <tr>\n",
       "      <th>4</th>\n",
       "      <td>False</td>\n",
       "      <td>False</td>\n",
       "      <td>False</td>\n",
       "      <td>False</td>\n",
       "      <td>False</td>\n",
       "      <td>False</td>\n",
       "      <td>False</td>\n",
       "      <td>False</td>\n",
       "      <td>False</td>\n",
       "      <td>False</td>\n",
       "    </tr>\n",
       "  </tbody>\n",
       "</table>\n",
       "</div>"
      ],
      "text/plain": [
       "   Genre  Title  price  Stock   Star    UPC   Type    Tax  Number of reviews  \\\n",
       "0  False  False  False  False  False  False  False  False              False   \n",
       "1  False  False  False  False  False  False  False  False              False   \n",
       "2  False  False  False  False  False  False  False  False              False   \n",
       "3  False  False  False  False  False  False  False  False              False   \n",
       "4  False  False  False  False  False  False  False  False              False   \n",
       "\n",
       "    desc  \n",
       "0  False  \n",
       "1  False  \n",
       "2  False  \n",
       "3  False  \n",
       "4  False  "
      ]
     },
     "execution_count": 61,
     "metadata": {},
     "output_type": "execute_result"
    }
   ],
   "source": [
    "df.isnull().head()"
   ]
  },
  {
   "cell_type": "code",
   "execution_count": 15,
   "id": "0fd269a6",
   "metadata": {},
   "outputs": [
    {
     "data": {
      "text/plain": [
       "Genre                0\n",
       "Title                0\n",
       "price                0\n",
       "Stock                0\n",
       "Star                 0\n",
       "UPC                  0\n",
       "Type                 0\n",
       "Tax                  0\n",
       "Number of reviews    0\n",
       "desc                 0\n",
       "dtype: int64"
      ]
     },
     "execution_count": 15,
     "metadata": {},
     "output_type": "execute_result"
    }
   ],
   "source": [
    "df.isnull().sum()"
   ]
  },
  {
   "cell_type": "markdown",
   "id": "9de88a42",
   "metadata": {},
   "source": [
    "<h2>4. Hight And Lowset Price of Book</h2>"
   ]
  },
  {
   "cell_type": "code",
   "execution_count": 16,
   "id": "75e09f2a",
   "metadata": {},
   "outputs": [
    {
     "data": {
      "text/plain": [
       "Index(['Genre', 'Title', 'price', 'Stock', 'Star', 'UPC', 'Type', 'Tax',\n",
       "       'Number of reviews', 'desc'],\n",
       "      dtype='object')"
      ]
     },
     "execution_count": 16,
     "metadata": {},
     "output_type": "execute_result"
    }
   ],
   "source": [
    "df.columns"
   ]
  },
  {
   "cell_type": "markdown",
   "id": "d03fb16b",
   "metadata": {},
   "source": [
    "<h3>Highest price</h3>"
   ]
  },
  {
   "cell_type": "code",
   "execution_count": 63,
   "id": "8351a808",
   "metadata": {},
   "outputs": [
    {
     "data": {
      "text/html": [
       "<div>\n",
       "<style scoped>\n",
       "    .dataframe tbody tr th:only-of-type {\n",
       "        vertical-align: middle;\n",
       "    }\n",
       "\n",
       "    .dataframe tbody tr th {\n",
       "        vertical-align: top;\n",
       "    }\n",
       "\n",
       "    .dataframe thead th {\n",
       "        text-align: right;\n",
       "    }\n",
       "</style>\n",
       "<table border=\"1\" class=\"dataframe\">\n",
       "  <thead>\n",
       "    <tr style=\"text-align: right;\">\n",
       "      <th></th>\n",
       "      <th>Genre</th>\n",
       "      <th>Title</th>\n",
       "      <th>price</th>\n",
       "      <th>Stock</th>\n",
       "      <th>Star</th>\n",
       "      <th>UPC</th>\n",
       "      <th>Type</th>\n",
       "      <th>Tax</th>\n",
       "      <th>Number of reviews</th>\n",
       "      <th>desc</th>\n",
       "    </tr>\n",
       "  </thead>\n",
       "  <tbody>\n",
       "    <tr>\n",
       "      <th>191</th>\n",
       "      <td>Romance</td>\n",
       "      <td>The Perfect Play (Play by Play #1)</td>\n",
       "      <td>59.99</td>\n",
       "      <td>4</td>\n",
       "      <td>3</td>\n",
       "      <td>9cc207168a03470d</td>\n",
       "      <td>Books</td>\n",
       "      <td>0.0</td>\n",
       "      <td>0</td>\n",
       "      <td>Football pro Mick Riley is an all-star  both o...</td>\n",
       "    </tr>\n",
       "  </tbody>\n",
       "</table>\n",
       "</div>"
      ],
      "text/plain": [
       "       Genre                               Title  price  Stock  Star  \\\n",
       "191  Romance  The Perfect Play (Play by Play #1)  59.99      4     3   \n",
       "\n",
       "                  UPC   Type  Tax  Number of reviews  \\\n",
       "191  9cc207168a03470d  Books  0.0                  0   \n",
       "\n",
       "                                                  desc  \n",
       "191  Football pro Mick Riley is an all-star  both o...  "
      ]
     },
     "execution_count": 63,
     "metadata": {},
     "output_type": "execute_result"
    }
   ],
   "source": [
    "df[df[\"price\"] == df.price.max()]"
   ]
  },
  {
   "cell_type": "markdown",
   "id": "2cc1aff0",
   "metadata": {},
   "source": [
    "<h3>Lowest price</h3>"
   ]
  },
  {
   "cell_type": "code",
   "execution_count": 25,
   "id": "18305646",
   "metadata": {},
   "outputs": [
    {
     "data": {
      "text/html": [
       "<div>\n",
       "<style scoped>\n",
       "    .dataframe tbody tr th:only-of-type {\n",
       "        vertical-align: middle;\n",
       "    }\n",
       "\n",
       "    .dataframe tbody tr th {\n",
       "        vertical-align: top;\n",
       "    }\n",
       "\n",
       "    .dataframe thead th {\n",
       "        text-align: right;\n",
       "    }\n",
       "</style>\n",
       "<table border=\"1\" class=\"dataframe\">\n",
       "  <thead>\n",
       "    <tr style=\"text-align: right;\">\n",
       "      <th></th>\n",
       "      <th>Genre</th>\n",
       "      <th>Title</th>\n",
       "      <th>price</th>\n",
       "      <th>Stock</th>\n",
       "      <th>Star</th>\n",
       "      <th>UPC</th>\n",
       "      <th>Type</th>\n",
       "      <th>Tax</th>\n",
       "      <th>Number of reviews</th>\n",
       "      <th>desc</th>\n",
       "    </tr>\n",
       "  </thead>\n",
       "  <tbody>\n",
       "    <tr>\n",
       "      <th>781</th>\n",
       "      <td>Young Adult</td>\n",
       "      <td>An Abundance of Katherines</td>\n",
       "      <td>10.0</td>\n",
       "      <td>5</td>\n",
       "      <td>5</td>\n",
       "      <td>f36d24c309e87e5b</td>\n",
       "      <td>Books</td>\n",
       "      <td>0.0</td>\n",
       "      <td>0</td>\n",
       "      <td>Katherine V thought boys were gross Katherine ...</td>\n",
       "    </tr>\n",
       "  </tbody>\n",
       "</table>\n",
       "</div>"
      ],
      "text/plain": [
       "           Genre                       Title  price  Stock  Star  \\\n",
       "781  Young Adult  An Abundance of Katherines   10.0      5     5   \n",
       "\n",
       "                  UPC   Type  Tax  Number of reviews  \\\n",
       "781  f36d24c309e87e5b  Books  0.0                  0   \n",
       "\n",
       "                                                  desc  \n",
       "781  Katherine V thought boys were gross Katherine ...  "
      ]
     },
     "execution_count": 25,
     "metadata": {},
     "output_type": "execute_result"
    }
   ],
   "source": [
    "df[ df[\"price\"] == df.price.min()]"
   ]
  },
  {
   "cell_type": "markdown",
   "id": "171a2ef9",
   "metadata": {},
   "source": [
    "<h2>5. Count The Genres of Books</h2>"
   ]
  },
  {
   "cell_type": "markdown",
   "id": "bb894d27",
   "metadata": {},
   "source": [
    "Top 5 Genre of Books"
   ]
  },
  {
   "cell_type": "code",
   "execution_count": 105,
   "id": "83681a7a",
   "metadata": {},
   "outputs": [
    {
     "data": {
      "text/plain": [
       "Default               152\n",
       "Nonfiction            110\n",
       "Sequential Art         75\n",
       "Add a comment          67\n",
       "Fiction                65\n",
       "Young Adult            54\n",
       "Fantasy                48\n",
       "Romance                35\n",
       "Mystery                32\n",
       "Food and Drink         30\n",
       "Childrens              29\n",
       "Historical Fiction     26\n",
       "Poetry                 19\n",
       "Classics               19\n",
       "History                18\n",
       "Womens Fiction         17\n",
       "Horror                 17\n",
       "Science Fiction        16\n",
       "Science                14\n",
       "Music                  13\n",
       "Business               12\n",
       "Travel                 11\n",
       "Thriller               11\n",
       "Philosophy             11\n",
       "Humor                  10\n",
       "Autobiography           9\n",
       "Art                     8\n",
       "Religion                7\n",
       "Psychology              7\n",
       "Spirituality            6\n",
       "New Adult               6\n",
       "Christian Fiction       6\n",
       "Self Help               5\n",
       "Sports and Games        5\n",
       "Biography               5\n",
       "Health                  4\n",
       "Contemporary            3\n",
       "Christian               3\n",
       "Politics                3\n",
       "Historical              2\n",
       "Novels                  1\n",
       "Cultural                1\n",
       "Erotica                 1\n",
       "Parenting               1\n",
       "Academic                1\n",
       "Short Stories           1\n",
       "Suspense                1\n",
       "Adult Fiction           1\n",
       "Paranormal              1\n",
       "Crime                   1\n",
       "Name: Genre, dtype: int64"
      ]
     },
     "execution_count": 105,
     "metadata": {},
     "output_type": "execute_result"
    }
   ],
   "source": [
    "df[\"Genre\"].value_counts()"
   ]
  },
  {
   "cell_type": "markdown",
   "id": "24f23e1a",
   "metadata": {},
   "source": [
    "<h2>6. Top 5 Genres of Books</h2>"
   ]
  },
  {
   "cell_type": "code",
   "execution_count": 106,
   "id": "dc387091",
   "metadata": {},
   "outputs": [
    {
     "data": {
      "text/plain": [
       "Default           152\n",
       "Nonfiction        110\n",
       "Sequential Art     75\n",
       "Add a comment      67\n",
       "Fiction            65\n",
       "Name: Genre, dtype: int64"
      ]
     },
     "execution_count": 106,
     "metadata": {},
     "output_type": "execute_result"
    }
   ],
   "source": [
    "df[\"Genre\"].value_counts().head()"
   ]
  },
  {
   "cell_type": "markdown",
   "id": "0cf6f921",
   "metadata": {},
   "source": [
    "<h2> 7. What is the average price of items in each genre? </h2>"
   ]
  },
  {
   "cell_type": "code",
   "execution_count": 8,
   "id": "52db8469",
   "metadata": {},
   "outputs": [
    {
     "name": "stdout",
     "output_type": "stream",
     "text": [
      " Travel\n",
      "    average price : 39\n",
      "    \n",
      " Mystery\n",
      "    average price : 31\n",
      "    \n",
      " Historical Fiction\n",
      "    average price : 33\n",
      "    \n",
      " Sequential Art\n",
      "    average price : 34\n",
      "    \n",
      " Classics\n",
      "    average price : 36\n",
      "    \n",
      " Philosophy\n",
      "    average price : 33\n",
      "    \n",
      " Romance\n",
      "    average price : 33\n",
      "    \n",
      " Womens Fiction\n",
      "    average price : 36\n",
      "    \n",
      " Fiction\n",
      "    average price : 36\n",
      "    \n",
      " Childrens\n",
      "    average price : 32\n",
      "    \n",
      " Religion\n",
      "    average price : 32\n",
      "    \n",
      " Nonfiction\n",
      "    average price : 34\n",
      "    \n",
      " Music\n",
      "    average price : 35\n",
      "    \n",
      " Default\n",
      "    average price : 34\n",
      "    \n",
      " Science Fiction\n",
      "    average price : 33\n",
      "    \n",
      " Sports and Games\n",
      "    average price : 41\n",
      "    \n",
      " Add a comment\n",
      "    average price : 35\n",
      "    \n",
      " Fantasy\n",
      "    average price : 39\n",
      "    \n",
      " New Adult\n",
      "    average price : 46\n",
      "    \n",
      " Young Adult\n",
      "    average price : 35\n",
      "    \n",
      " Science\n",
      "    average price : 33\n",
      "    \n",
      " Poetry\n",
      "    average price : 35\n",
      "    \n",
      " Paranormal\n",
      "    average price : 15\n",
      "    \n",
      " Art\n",
      "    average price : 38\n",
      "    \n",
      " Psychology\n",
      "    average price : 34\n",
      "    \n",
      " Autobiography\n",
      "    average price : 37\n",
      "    \n",
      " Parenting\n",
      "    average price : 37\n",
      "    \n",
      " Adult Fiction\n",
      "    average price : 15\n",
      "    \n",
      " Humor\n",
      "    average price : 33\n",
      "    \n",
      " Horror\n",
      "    average price : 35\n",
      "    \n",
      " History\n",
      "    average price : 37\n",
      "    \n",
      " Food and Drink\n",
      "    average price : 31\n",
      "    \n",
      " Christian Fiction\n",
      "    average price : 34\n",
      "    \n",
      " Business\n",
      "    average price : 32\n",
      "    \n",
      " Biography\n",
      "    average price : 33\n",
      "    \n",
      " Thriller\n",
      "    average price : 31\n",
      "    \n",
      " Contemporary\n",
      "    average price : 36\n",
      "    \n",
      " Spirituality\n",
      "    average price : 35\n",
      "    \n",
      " Academic\n",
      "    average price : 13\n",
      "    \n",
      " Self Help\n",
      "    average price : 40\n",
      "    \n",
      " Historical\n",
      "    average price : 22\n",
      "    \n",
      " Christian\n",
      "    average price : 42\n",
      "    \n",
      " Suspense\n",
      "    average price : 58\n",
      "    \n",
      " Short Stories\n",
      "    average price : 35\n",
      "    \n",
      " Novels\n",
      "    average price : 54\n",
      "    \n",
      " Health\n",
      "    average price : 51\n",
      "    \n",
      " Politics\n",
      "    average price : 53\n",
      "    \n",
      " Cultural\n",
      "    average price : 36\n",
      "    \n",
      " Erotica\n",
      "    average price : 19\n",
      "    \n",
      " Crime\n",
      "    average price : 10\n",
      "    \n"
     ]
    }
   ],
   "source": [
    "l = df[\"Genre\"].unique()\n",
    "l2 = []\n",
    "for x in l:\n",
    "    l2.append(int(df[df[\"Genre\"] == x][\"price\"].mean()))\n",
    "    print(f''' {x}\n",
    "    average price : {int(df[df[\"Genre\"] == x][\"price\"].mean())}\n",
    "    ''')"
   ]
  },
  {
   "cell_type": "code",
   "execution_count": 9,
   "id": "d6f79ab7",
   "metadata": {},
   "outputs": [
    {
     "data": {
      "image/png": "[encoded data removed]",
      "text/plain": [
       "<Figure size 640x480 with 1 Axes>"
      ]
     },
     "metadata": {},
     "output_type": "display_data"
    }
   ],
   "source": [
    "y = np.array(l[:5])\n",
    "x = np.array(l2[:5])\n",
    "\n",
    "font1  = {'color':'blue','size':10}\n",
    "# marker|line|color\n",
    "plt.plot(y,x, 'v--r')\n",
    "\n",
    "plt.title(\"Explore the distribution of average prices of  first five items in Genres\")\n",
    "plt.xlabel(\"First five Genre\", fontdict = font1 )\n",
    "plt.ylabel(\"Average value in dollars\", fontdict= font1 )\n",
    "plt.grid()\n",
    "plt.show()"
   ]
  },
  {
   "cell_type": "code",
   "execution_count": 12,
   "id": "e29e174a",
   "metadata": {},
   "outputs": [
    {
     "data": {
      "text/plain": [
       "<AxesSubplot:>"
      ]
     },
     "execution_count": 12,
     "metadata": {},
     "output_type": "execute_result"
    },
    {
     "data": {
      "image/png": "[encoded data removed]",
      "text/plain": [
       "<Figure size 640x480 with 1 Axes>"
      ]
     },
     "metadata": {},
     "output_type": "display_data"
    }
   ],
   "source": [
    "sns.lineplot(x=y,y=x, markers=\"x\") "
   ]
  },
  {
   "cell_type": "markdown",
   "id": "2bab337e",
   "metadata": {},
   "source": [
    "<h2> 8. Genre most Popular ? </h2>"
   ]
  },
  {
   "cell_type": "code",
   "execution_count": 34,
   "id": "92da6c38",
   "metadata": {},
   "outputs": [
    {
     "data": {
      "text/plain": [
       "Index(['Genre', 'Title', 'price', 'Stock', 'Star', 'UPC', 'Type', 'Tax',\n",
       "       'Number of reviews', 'desc'],\n",
       "      dtype='object')"
      ]
     },
     "execution_count": 34,
     "metadata": {},
     "output_type": "execute_result"
    }
   ],
   "source": [
    "df.columns"
   ]
  },
  {
   "cell_type": "code",
   "execution_count": 36,
   "id": "15f442d3",
   "metadata": {},
   "outputs": [
    {
     "data": {
      "text/plain": [
       "Default    152\n",
       "Name: Genre, dtype: int64"
      ]
     },
     "execution_count": 36,
     "metadata": {},
     "output_type": "execute_result"
    }
   ],
   "source": [
    "df[\"Genre\"].value_counts().head(1)"
   ]
  },
  {
   "cell_type": "markdown",
   "id": "5efce55b",
   "metadata": {},
   "source": [
    "<h2> 9. What is the average star rating for each genre? </h2>"
   ]
  },
  {
   "cell_type": "code",
   "execution_count": 37,
   "id": "38472e77",
   "metadata": {},
   "outputs": [
    {
     "data": {
      "text/plain": [
       "Index(['Genre', 'Title', 'price', 'Stock', 'Star', 'UPC', 'Type', 'Tax',\n",
       "       'Number of reviews', 'desc'],\n",
       "      dtype='object')"
      ]
     },
     "execution_count": 37,
     "metadata": {},
     "output_type": "execute_result"
    }
   ],
   "source": [
    "df.columns"
   ]
  },
  {
   "cell_type": "code",
   "execution_count": 126,
   "id": "4c39ad57",
   "metadata": {},
   "outputs": [
    {
     "name": "stdout",
     "output_type": "stream",
     "text": [
      " Travel\n",
      "    average star : 2\n",
      "    \n",
      " Mystery\n",
      "    average star : 2\n",
      "    \n",
      " Historical Fiction\n",
      "    average star : 3\n",
      "    \n",
      " Sequential Art\n",
      "    average star : 2\n",
      "    \n",
      " Classics\n",
      "    average star : 2\n",
      "    \n",
      " Philosophy\n",
      "    average star : 2\n",
      "    \n",
      " Romance\n",
      "    average star : 2\n",
      "    \n",
      " Womens Fiction\n",
      "    average star : 3\n",
      "    \n",
      " Fiction\n",
      "    average star : 3\n",
      "    \n",
      " Childrens\n",
      "    average star : 2\n",
      "    \n",
      " Religion\n",
      "    average star : 3\n",
      "    \n",
      " Nonfiction\n",
      "    average star : 2\n",
      "    \n",
      " Music\n",
      "    average star : 3\n",
      "    \n",
      " Default\n",
      "    average star : 2\n",
      "    \n",
      " Science Fiction\n",
      "    average star : 2\n",
      "    \n",
      " Sports and Games\n",
      "    average star : 3\n",
      "    \n",
      " Add a comment\n",
      "    average star : 2\n",
      "    \n",
      " Fantasy\n",
      "    average star : 3\n",
      "    \n",
      " New Adult\n",
      "    average star : 3\n",
      "    \n",
      " Young Adult\n",
      "    average star : 3\n",
      "    \n",
      " Science\n",
      "    average star : 2\n",
      "    \n",
      " Poetry\n",
      "    average star : 3\n",
      "    \n",
      " Paranormal\n",
      "    average star : 1\n",
      "    \n",
      " Art\n",
      "    average star : 3\n",
      "    \n",
      " Psychology\n",
      "    average star : 1\n",
      "    \n",
      " Autobiography\n",
      "    average star : 3\n",
      "    \n",
      " Parenting\n",
      "    average star : 2\n",
      "    \n",
      " Adult Fiction\n",
      "    average star : 5\n",
      "    \n",
      " Humor\n",
      "    average star : 3\n",
      "    \n",
      " Horror\n",
      "    average star : 2\n",
      "    \n",
      " History\n",
      "    average star : 2\n",
      "    \n",
      " Food and Drink\n",
      "    average star : 2\n",
      "    \n",
      " Christian Fiction\n",
      "    average star : 4\n",
      "    \n",
      " Business\n",
      "    average star : 2\n",
      "    \n",
      " Biography\n",
      "    average star : 2\n",
      "    \n",
      " Thriller\n",
      "    average star : 2\n",
      "    \n",
      " Contemporary\n",
      "    average star : 2\n",
      "    \n",
      " Spirituality\n",
      "    average star : 3\n",
      "    \n",
      " Academic\n",
      "    average star : 2\n",
      "    \n",
      " Self Help\n",
      "    average star : 2\n",
      "    \n",
      " Historical\n",
      "    average star : 3\n",
      "    \n",
      " Christian\n",
      "    average star : 2\n",
      "    \n",
      " Suspense\n",
      "    average star : 3\n",
      "    \n",
      " Short Stories\n",
      "    average star : 1\n",
      "    \n",
      " Novels\n",
      "    average star : 5\n",
      "    \n",
      " Health\n",
      "    average star : 3\n",
      "    \n",
      " Politics\n",
      "    average star : 2\n",
      "    \n",
      " Cultural\n",
      "    average star : 1\n",
      "    \n",
      " Erotica\n",
      "    average star : 5\n",
      "    \n",
      " Crime\n",
      "    average star : 1\n",
      "    \n"
     ]
    }
   ],
   "source": [
    "l = df[\"Genre\"].unique()\n",
    "for x in l:\n",
    "    print(f''' {x}\n",
    "    average star : {int(df[df[\"Genre\"] == x][\"Star\"].mean())}\n",
    "    ''')"
   ]
  },
  {
   "cell_type": "markdown",
   "id": "11231aba",
   "metadata": {},
   "source": [
    "<h2> 11. How many unique UPC codes are there in the dataset? </h2>"
   ]
  },
  {
   "cell_type": "code",
   "execution_count": 51,
   "id": "f12f7069",
   "metadata": {},
   "outputs": [
    {
     "data": {
      "text/plain": [
       "1000"
      ]
     },
     "execution_count": 51,
     "metadata": {},
     "output_type": "execute_result"
    }
   ],
   "source": [
    "len(df[\"UPC\"].unique())"
   ]
  },
  {
   "cell_type": "markdown",
   "id": "54a704e6",
   "metadata": {},
   "source": [
    "<h2> 10. What is the total revenue generated by each genre, taking into account the price, tax, and number of items sold? </h2>"
   ]
  },
  {
   "cell_type": "code",
   "execution_count": null,
   "id": "76b55c46",
   "metadata": {},
   "outputs": [],
   "source": []
  },
  {
   "cell_type": "code",
   "execution_count": 128,
   "id": "06ae2d3c",
   "metadata": {},
   "outputs": [
    {
     "name": "stdout",
     "output_type": "stream",
     "text": [
      "Travel:\n",
      "    *Total revenue : 437\n",
      "    \n",
      "Mystery:\n",
      "    *Total revenue : 1015\n",
      "    \n",
      "Historical Fiction:\n",
      "    *Total revenue : 874\n",
      "    \n",
      "Sequential Art:\n",
      "    *Total revenue : 2592\n",
      "    \n",
      "Classics:\n",
      "    *Total revenue : 694\n",
      "    \n",
      "Philosophy:\n",
      "    *Total revenue : 369\n",
      "    \n",
      "Romance:\n",
      "    *Total revenue : 1187\n",
      "    \n",
      "Womens Fiction:\n",
      "    *Total revenue : 625\n",
      "    \n",
      "Fiction:\n",
      "    *Total revenue : 2344\n",
      "    \n",
      "Childrens:\n",
      "    *Total revenue : 946\n",
      "    \n",
      "Religion:\n",
      "    *Total revenue : 227\n",
      "    \n",
      "Nonfiction:\n",
      "    *Total revenue : 3768\n",
      "    \n",
      "Music:\n",
      "    *Total revenue : 463\n",
      "    \n",
      "Default:\n",
      "    *Total revenue : 5227\n",
      "    \n",
      "Science Fiction:\n",
      "    *Total revenue : 540\n",
      "    \n",
      "Sports and Games:\n",
      "    *Total revenue : 205\n",
      "    \n",
      "Add a comment:\n",
      "    *Total revenue : 2398\n",
      "    \n",
      "Fantasy:\n",
      "    *Total revenue : 1900\n",
      "    \n",
      "New Adult:\n",
      "    *Total revenue : 278\n",
      "    \n",
      "Young Adult:\n",
      "    *Total revenue : 1914\n",
      "    \n",
      "Science:\n",
      "    *Total revenue : 463\n",
      "    \n",
      "Poetry:\n",
      "    *Total revenue : 683\n",
      "    \n",
      "Paranormal:\n",
      "    *Total revenue : 15\n",
      "    \n",
      "Art:\n",
      "    *Total revenue : 308\n",
      "    \n",
      "Psychology:\n",
      "    *Total revenue : 239\n",
      "    \n",
      "Autobiography:\n",
      "    *Total revenue : 333\n",
      "    \n",
      "Parenting:\n",
      "    *Total revenue : 37\n",
      "    \n",
      "Adult Fiction:\n",
      "    *Total revenue : 15\n",
      "    \n",
      "Humor:\n",
      "    *Total revenue : 335\n",
      "    \n",
      "Horror:\n",
      "    *Total revenue : 611\n",
      "    \n",
      "History:\n",
      "    *Total revenue : 671\n",
      "    \n",
      "Food and Drink:\n",
      "    *Total revenue : 942\n",
      "    \n",
      "Christian Fiction:\n",
      "    *Total revenue : 206\n",
      "    \n",
      "Business:\n",
      "    *Total revenue : 389\n",
      "    \n",
      "Biography:\n",
      "    *Total revenue : 168\n",
      "    \n",
      "Thriller:\n",
      "    *Total revenue : 345\n",
      "    \n",
      "Contemporary:\n",
      "    *Total revenue : 108\n",
      "    \n",
      "Spirituality:\n",
      "    *Total revenue : 210\n",
      "    \n",
      "Academic:\n",
      "    *Total revenue : 13\n",
      "    \n",
      "Self Help:\n",
      "    *Total revenue : 203\n",
      "    \n",
      "Historical:\n",
      "    *Total revenue : 45\n",
      "    \n",
      "Christian:\n",
      "    *Total revenue : 127\n",
      "    \n",
      "Suspense:\n",
      "    *Total revenue : 58\n",
      "    \n",
      "Short Stories:\n",
      "    *Total revenue : 35\n",
      "    \n",
      "Novels:\n",
      "    *Total revenue : 54\n",
      "    \n",
      "Health:\n",
      "    *Total revenue : 205\n",
      "    \n",
      "Politics:\n",
      "    *Total revenue : 160\n",
      "    \n",
      "Cultural:\n",
      "    *Total revenue : 36\n",
      "    \n",
      "Erotica:\n",
      "    *Total revenue : 19\n",
      "    \n",
      "Crime:\n",
      "    *Total revenue : 10\n",
      "    \n"
     ]
    }
   ],
   "source": [
    "l = df[\"Genre\"].unique()\n",
    "\n",
    "for x in l:\n",
    "    total = df[ df[\"Genre\"] == x][\"price\"].sum()\n",
    "    print(f'''{x}:\n",
    "    *Total revenue : {int(total)}\n",
    "    ''' )"
   ]
  },
  {
   "cell_type": "markdown",
   "id": "6ab5c6cc",
   "metadata": {},
   "source": [
    "<h2> 12.Which item has the most reviews, and what is its star rating ? </h2>"
   ]
  },
  {
   "cell_type": "code",
   "execution_count": 116,
   "id": "51c9c428",
   "metadata": {},
   "outputs": [
    {
     "data": {
      "text/plain": [
       "196"
      ]
     },
     "execution_count": 116,
     "metadata": {},
     "output_type": "execute_result"
    }
   ],
   "source": [
    "len(df[df[\"Star\"] == 5])"
   ]
  },
  {
   "cell_type": "markdown",
   "id": "719c7a2d",
   "metadata": {},
   "source": [
    "<h2> 13.How many items have a price above a certain threshold  '25DH'? </h2>"
   ]
  },
  {
   "cell_type": "code",
   "execution_count": 53,
   "id": "32e72419",
   "metadata": {},
   "outputs": [
    {
     "data": {
      "text/plain": [
       "Index(['Genre', 'Title', 'price', 'Stock', 'Star', 'UPC', 'Type', 'Tax',\n",
       "       'Number of reviews', 'desc'],\n",
       "      dtype='object')"
      ]
     },
     "execution_count": 53,
     "metadata": {},
     "output_type": "execute_result"
    }
   ],
   "source": [
    "df.columns"
   ]
  },
  {
   "cell_type": "code",
   "execution_count": 57,
   "id": "9a1e1d73",
   "metadata": {},
   "outputs": [
    {
     "data": {
      "text/plain": [
       "701"
      ]
     },
     "execution_count": 57,
     "metadata": {},
     "output_type": "execute_result"
    }
   ],
   "source": [
    "len(df[df[\"price\"] > 25])"
   ]
  },
  {
   "cell_type": "markdown",
   "id": "904e4f6d",
   "metadata": {},
   "source": [
    "<h2> 14. Which genre has the most items in stock</h2>"
   ]
  },
  {
   "cell_type": "code",
   "execution_count": 118,
   "id": "7b5a5ad8",
   "metadata": {},
   "outputs": [
    {
     "data": {
      "text/plain": [
       "812    Poetry\n",
       "Name: Genre, dtype: object"
      ]
     },
     "execution_count": 118,
     "metadata": {},
     "output_type": "execute_result"
    }
   ],
   "source": [
    "df[df[\"Stock\"] == df[\"Stock\"].max()][\"Genre\"]"
   ]
  },
  {
   "cell_type": "markdown",
   "id": "80475f1a",
   "metadata": {},
   "source": [
    "<h2 style=\"color: green; text-align:center;\">  Make a random number reviews ....</h2>"
   ]
  },
  {
   "cell_type": "markdown",
   "id": "066526db",
   "metadata": {},
   "source": []
  },
  {
   "cell_type": "code",
   "execution_count": 61,
   "id": "f6662cf4",
   "metadata": {},
   "outputs": [],
   "source": [
    "new_Column = df[\"Number of reviews\"].apply(lambda  x : int(rd.randrange(0,350))).rename(\"Number of reviews RD\")\n",
    "df2 = pd.concat([df, new_Column], axis=1)\n",
    "df2.drop('Number of reviews', inplace=True, axis=1)\n"
   ]
  },
  {
   "cell_type": "markdown",
   "id": "bc960533",
   "metadata": {},
   "source": [
    "<h2> 15. Determine the top 5 products with the highest number of reviews.</h2>"
   ]
  },
  {
   "cell_type": "code",
   "execution_count": 62,
   "id": "84634fa2",
   "metadata": {},
   "outputs": [
    {
     "data": {
      "text/plain": [
       "Index(['Genre', 'Title', 'price', 'Stock', 'Star', 'UPC', 'Type', 'Tax',\n",
       "       'desc', 'Number of reviews RD'],\n",
       "      dtype='object')"
      ]
     },
     "execution_count": 62,
     "metadata": {},
     "output_type": "execute_result"
    }
   ],
   "source": [
    "df2.columns"
   ]
  },
  {
   "cell_type": "code",
   "execution_count": 91,
   "id": "af2e34b2",
   "metadata": {},
   "outputs": [
    {
     "data": {
      "text/html": [
       "<div>\n",
       "<style scoped>\n",
       "    .dataframe tbody tr th:only-of-type {\n",
       "        vertical-align: middle;\n",
       "    }\n",
       "\n",
       "    .dataframe tbody tr th {\n",
       "        vertical-align: top;\n",
       "    }\n",
       "\n",
       "    .dataframe thead th {\n",
       "        text-align: right;\n",
       "    }\n",
       "</style>\n",
       "<table border=\"1\" class=\"dataframe\">\n",
       "  <thead>\n",
       "    <tr style=\"text-align: right;\">\n",
       "      <th></th>\n",
       "      <th>Title</th>\n",
       "      <th>price</th>\n",
       "      <th>Star</th>\n",
       "      <th>Number of reviews RD</th>\n",
       "    </tr>\n",
       "  </thead>\n",
       "  <tbody>\n",
       "    <tr>\n",
       "      <th>300</th>\n",
       "      <td>Luis Paints the World</td>\n",
       "      <td>53.95</td>\n",
       "      <td>3</td>\n",
       "      <td>349</td>\n",
       "    </tr>\n",
       "    <tr>\n",
       "      <th>691</th>\n",
       "      <td>Saga, Volume 6 (Saga (Collected Editions) #6)</td>\n",
       "      <td>25.02</td>\n",
       "      <td>3</td>\n",
       "      <td>349</td>\n",
       "    </tr>\n",
       "    <tr>\n",
       "      <th>306</th>\n",
       "      <td>Maybe Something Beautiful: How Art Transformed...</td>\n",
       "      <td>22.54</td>\n",
       "      <td>1</td>\n",
       "      <td>348</td>\n",
       "    </tr>\n",
       "    <tr>\n",
       "      <th>224</th>\n",
       "      <td>The Edge of Reason (Bridget Jones #2)</td>\n",
       "      <td>19.18</td>\n",
       "      <td>4</td>\n",
       "      <td>347</td>\n",
       "    </tr>\n",
       "    <tr>\n",
       "      <th>559</th>\n",
       "      <td>Harry Potter and the Sorcerer's Stone (Harry P...</td>\n",
       "      <td>13.90</td>\n",
       "      <td>3</td>\n",
       "      <td>347</td>\n",
       "    </tr>\n",
       "  </tbody>\n",
       "</table>\n",
       "</div>"
      ],
      "text/plain": [
       "                                                 Title  price  Star  \\\n",
       "300                              Luis Paints the World  53.95     3   \n",
       "691      Saga, Volume 6 (Saga (Collected Editions) #6)  25.02     3   \n",
       "306  Maybe Something Beautiful: How Art Transformed...  22.54     1   \n",
       "224              The Edge of Reason (Bridget Jones #2)  19.18     4   \n",
       "559  Harry Potter and the Sorcerer's Stone (Harry P...  13.90     3   \n",
       "\n",
       "     Number of reviews RD  \n",
       "300                   349  \n",
       "691                   349  \n",
       "306                   348  \n",
       "224                   347  \n",
       "559                   347  "
      ]
     },
     "execution_count": 91,
     "metadata": {},
     "output_type": "execute_result"
    }
   ],
   "source": [
    "df2[[\"Title\" , \"price\",\"Star\",\"Number of reviews RD\"]].nlargest(5,\"Number of reviews RD\")"
   ]
  },
  {
   "cell_type": "markdown",
   "id": "3818ebf8",
   "metadata": {},
   "source": [
    "<h2>17 . Find out the average star rating of products with a price higher than $25.</h2>"
   ]
  },
  {
   "cell_type": "code",
   "execution_count": 101,
   "id": "8705570d",
   "metadata": {},
   "outputs": [
    {
     "data": {
      "text/plain": [
       "2.923"
      ]
     },
     "execution_count": 101,
     "metadata": {},
     "output_type": "execute_result"
    }
   ],
   "source": [
    "df2[df2[\"price\"] == df2[\"price\"]][\"Star\"].mean()"
   ]
  }
 ],
 "metadata": {
  "kernelspec": {
   "display_name": "Python 3 (ipykernel)",
   "language": "python",
   "name": "python3"
  },
  "language_info": {
   "codemirror_mode": {
    "name": "ipython",
    "version": 3
   },
   "file_extension": ".py",
   "mimetype": "text/x-python",
   "name": "python",
   "nbconvert_exporter": "python",
   "pygments_lexer": "ipython3",
   "version": "3.9.13"
  }
 },
 "nbformat": 4,
 "nbformat_minor": 5
}
